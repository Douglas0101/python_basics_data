{
 "cells": [
  {
   "cell_type": "markdown",
   "metadata": {
    "id": "SEE0vQsW83yB"
   },
   "source": [
    "### 01 - Teste de gravidez\n",
    "Escreva uma célula com controle de fluxos que tem como premissa a existência das seguintes variáveis:\n",
    "\n",
    "- ```sexo``` como ```str``` indicando os valores '**M**' para masculino e '**F**' para feminino  \n",
    "- ```beta_hcg``` que indica a quantidade do beta-HCG no sangue em mUI/mL.\n",
    "\n",
    "A sua tarefa é escrever um código que imprima como resultado \"indivíduo do sexo masculino\" quando sexo = 'M', caso sexo = 'F', se o valor de beta-HCG for maior que 5, retorne \"Positivo\" indicando que a paciente está grávida, e retorne \"Negativo\" caso contrário.\n",
    "\n",
    "Não mexa nos valores da variável ```sexo``` nem em ```beta_hcg```, e escreva um código que funcione para quaisquer valores possíveis de ambos: ```sexo``` = '**M**' ou '**F**' e ```beta_hcg``` assumindo valores inteiros positivos."
   ]
  },
  {
   "cell_type": "code",
   "execution_count": 51,
   "metadata": {
    "id": "cTOc4LG683yE",
    "ExecuteTime": {
     "end_time": "2024-01-28T02:13:41.020142100Z",
     "start_time": "2024-01-28T02:13:40.958869Z"
    }
   },
   "outputs": [],
   "source": [
    "sexo = 'M'\n",
    "beta_hcg = 0\n",
    "\n",
    "# seu código vem abaixo desta linha\n"
   ]
  },
  {
   "cell_type": "markdown",
   "metadata": {
    "id": "uCoIZDE383yF"
   },
   "source": [
    "### 02 - Renomeando variáveis\n",
    "\n",
    "Vamos ver adiante que uma forma de renomear variáveis de um conjunto de dados é através de dicionários - o dicionário deve conter como chave o nome original, associando a cada chave um único valor (tipo *str*) que contenha o nome novo.\n",
    "\n",
    "A sua tarefa é escrever um dicionário que possa ser utilizado para traduzir as variáveis ```name``` (nome), ```age``` (idade) e ```income``` (renda). Ou seja, esse dicionário deve relacionar as chaves *name, age* e *income* às suas respectivas traduções."
   ]
  },
  {
   "cell_type": "code",
   "execution_count": 52,
   "metadata": {
    "id": "Bh6ijpbu83yG",
    "outputId": "58fbd8da-ed1d-4e05-df85-041c821948f2",
    "ExecuteTime": {
     "end_time": "2024-01-28T02:13:41.061360700Z",
     "start_time": "2024-01-28T02:13:41.031654500Z"
    }
   },
   "outputs": [
    {
     "data": {
      "text/plain": "{'': ''}"
     },
     "execution_count": 52,
     "metadata": {},
     "output_type": "execute_result"
    }
   ],
   "source": [
    "dic_renomeacao = {'': ''}\n",
    "dic_renomeacao"
   ]
  },
  {
   "cell_type": "markdown",
   "metadata": {
    "id": "95zumO5g83yH"
   },
   "source": [
    "### 03 - É divisível?\n",
    "A sua tarefa é escrever um código que indique se um número ```N``` é divisível por um número P. Escreva um programa que faça essa verificação para quaisquer combinações de ```N``` e ```M``` e devolva uma mensagem indicativa no output."
   ]
  },
  {
   "cell_type": "code",
   "execution_count": 65,
   "metadata": {
    "id": "BR2zOhmN83yI",
    "ExecuteTime": {
     "end_time": "2024-01-28T02:19:31.879963800Z",
     "start_time": "2024-01-28T02:19:31.866433200Z"
    }
   },
   "outputs": [
    {
     "name": "stdout",
     "output_type": "stream",
     "text": [
      "Não são divisíveis!\n"
     ]
    }
   ],
   "source": [
    "N = 42\n",
    "M = 7\n",
    "\n",
    "#Seu código\n",
    "\n",
    "def eh_divisivel(N, M):\n",
    "    \n",
    "    divisao = N / M\n",
    "    \n",
    "    return N % M == 0\n",
    "\n",
    "if eh_divisivel(N, M) == 0:\n",
    "        print('São divisíveis!')\n",
    "else:\n",
    "    print('Não são divisíveis!')"
   ]
  },
  {
   "cell_type": "markdown",
   "metadata": {
    "id": "0d5Kdrz283yJ"
   },
   "source": [
    "### 04 - Números primos\n",
    "> Um número **N** é primo se e somente se é divisível por 1, -1, por **N** e por -**N**.  \n",
    "\n",
    "Escreva um script que verifica se ```N``` é um número primo, verificando se ```N``` é divisível por todos os números de ```1``` a ```N-1```. Você vai precisar usar alguma ferramenta de *loop* que você aprendeu para isto. No final, devolva uma mensagem no output indicando se o número é primo ou não."
   ]
  },
  {
   "cell_type": "code",
   "execution_count": 80,
   "metadata": {
    "id": "h_lFO-EO83yJ",
    "ExecuteTime": {
     "end_time": "2024-01-28T02:21:47.706795600Z",
     "start_time": "2024-01-28T02:21:47.702788700Z"
    }
   },
   "outputs": [
    {
     "name": "stdout",
     "output_type": "stream",
     "text": [
      "É um número primo!\n"
     ]
    }
   ],
   "source": [
    "N = 47\n",
    "\n",
    "# seu código abaixo\n",
    "\n",
    "def eh_primo(N):\n",
    "    for divisor in range(2, N):\n",
    "        if N % divisor == 0:\n",
    "            return False\n",
    "    return True\n",
    "\n",
    "if eh_primo(N):\n",
    "    print('É um número primo!')\n",
    "else:\n",
    "    print('Não é um número primo!')"
   ]
  },
  {
   "cell_type": "markdown",
   "metadata": {
    "id": "zHwDnURO83yK"
   },
   "source": [
    "### 05 - Desafio\n",
    "O algorítmo do exercício anterior não é o mais eficiente. O que você pode fazer para deixá-lo mais eficiente? Ou seja, executar menos comparações, portanto consumir menos tempo.\n",
    "1. Será que precisamos correr o loop até o final sempre?\n",
    "2. Será que precisamos mesmo verificar **todos** os números?\n",
    "3. Será que precisamos ir até N-1?\n",
    "\n",
    "Essas perguntas levam ao tipo de pensamento voltado a deixar um algoritmo mais eficiente. Veja se você consegue melhorar o seu."
   ]
  },
  {
   "cell_type": "code",
   "execution_count": 82,
   "metadata": {
    "id": "DDdwfZOL83yM",
    "ExecuteTime": {
     "end_time": "2024-01-28T02:29:12.938481400Z",
     "start_time": "2024-01-28T02:29:12.923966200Z"
    }
   },
   "outputs": [
    {
     "name": "stdout",
     "output_type": "stream",
     "text": [
      "98\n",
      "97\n",
      "96\n",
      "95\n",
      "94\n",
      "93\n",
      "92\n",
      "91\n",
      "90\n",
      "89\n",
      "88\n",
      "87\n",
      "86\n",
      "85\n",
      "84\n",
      "83\n",
      "82\n",
      "81\n",
      "80\n",
      "79\n",
      "78\n",
      "77\n",
      "76\n",
      "75\n",
      "74\n",
      "73\n",
      "72\n",
      "71\n",
      "70\n",
      "69\n",
      "68\n",
      "67\n",
      "66\n",
      "65\n",
      "64\n",
      "63\n",
      "62\n",
      "61\n",
      "60\n",
      "59\n",
      "58\n",
      "57\n",
      "56\n",
      "55\n",
      "54\n",
      "53\n",
      "52\n",
      "51\n",
      "50\n",
      "49\n",
      "48\n",
      "47\n",
      "46\n",
      "45\n",
      "44\n",
      "43\n",
      "42\n",
      "41\n",
      "40\n",
      "39\n",
      "38\n",
      "37\n",
      "36\n",
      "35\n",
      "34\n",
      "33\n",
      "32\n",
      "31\n",
      "30\n",
      "29\n",
      "28\n",
      "27\n",
      "26\n",
      "25\n",
      "24\n",
      "23\n",
      "22\n",
      "21\n",
      "20\n",
      "19\n",
      "18\n",
      "17\n",
      "16\n",
      "15\n",
      "14\n",
      "13\n",
      "12\n",
      "11\n",
      "10\n",
      "9\n",
      "8\n",
      "7\n",
      "6\n",
      "5\n",
      "4\n",
      "3\n",
      "2\n",
      "1\n"
     ]
    },
    {
     "data": {
      "text/plain": "0"
     },
     "execution_count": 82,
     "metadata": {},
     "output_type": "execute_result"
    }
   ],
   "source": [
    "N = 98\n",
    "\n",
    "# seu código aqui\n",
    "\n",
    "def contagem(N):\n",
    "    \n",
    "    while N > 0:\n",
    "        print(N)\n",
    "        N -= 1\n",
    "    return N\n",
    "\n",
    "contagem(N)"
   ]
  },
  {
   "cell_type": "markdown",
   "metadata": {
    "id": "4zhVSQan83yN"
   },
   "source": [
    "### 06 - Peso ideal 1\n",
    "O IMC (índice de massa corpórea) é um indicador de saúde mais bem aceito que o peso. Ele é calculado como:\n",
    "\n",
    "$$ IMC = \\dfrac{peso}{altura^2}$$\n",
    "\n",
    "Segundo a OMS, valores *normais* são entre 18.5 e 24.9.\n",
    "\n",
    "Sua tarefa é encontrar o ponto médio dessa faixa."
   ]
  },
  {
   "cell_type": "code",
   "execution_count": 56,
   "metadata": {
    "id": "3DzxicN983yO",
    "outputId": "6a947e58-88b2-4764-a9ca-717b971adb3d",
    "ExecuteTime": {
     "end_time": "2024-01-28T02:13:41.164717400Z",
     "start_time": "2024-01-28T02:13:41.106357700Z"
    }
   },
   "outputs": [
    {
     "name": "stdout",
     "output_type": "stream",
     "text": [
      "IMC ideal: 21.70\n"
     ]
    }
   ],
   "source": [
    "imc_ideal = (18.5 + 24.9) / 2\n",
    "print(f'IMC ideal: {imc_ideal:.2f}') # A média entre 18.5 e 24.9"
   ]
  },
  {
   "cell_type": "markdown",
   "metadata": {
    "id": "Z8uBOym483yP"
   },
   "source": [
    "### 07 - Peso ideal 2\n",
    "Recebendo um valor de altura, encontre o peso '*ideal*' dessa pessoa, que fornece o IMC encontrado acima"
   ]
  },
  {
   "cell_type": "code",
   "execution_count": 57,
   "metadata": {
    "id": "rrNwycte83yP",
    "outputId": "0e63b2ff-3743-48c7-a472-b48a450a0867",
    "ExecuteTime": {
     "end_time": "2024-01-28T02:13:41.182798500Z",
     "start_time": "2024-01-28T02:13:41.122881500Z"
    }
   },
   "outputs": [
    {
     "name": "stdout",
     "output_type": "stream",
     "text": [
      "Peso ideal: 62.71kg\n"
     ]
    }
   ],
   "source": [
    "altura = 1.70\n",
    "\n",
    "# Seu código\n",
    "peso_ideal = imc_ideal * (altura ** 2)\n",
    "print(f'Peso ideal: {peso_ideal:.2f}kg')"
   ]
  },
  {
   "cell_type": "markdown",
   "metadata": {
    "id": "zEdM6J_i83yP"
   },
   "source": [
    "### 08 - Peso ideal 3\n",
    "Dada uma lista contendo as alturas de pacientes, crie uma nova lista que contenha o peso '*ideal*' (que fornece o IMC calculado em **Peso ideal 1**) desses pacientes."
   ]
  },
  {
   "cell_type": "code",
   "execution_count": 118,
   "metadata": {
    "id": "KN1mB_My83yQ",
    "outputId": "f070d54d-c156-4546-e3c7-b5bc500059d9",
    "ExecuteTime": {
     "end_time": "2024-01-28T02:52:09.153272500Z",
     "start_time": "2024-01-28T02:52:09.144260400Z"
    }
   },
   "outputs": [
    {
     "data": {
      "text/plain": "[82.51, 91.19, 62.71, 59.08]"
     },
     "execution_count": 118,
     "metadata": {},
     "output_type": "execute_result"
    }
   ],
   "source": [
    "lista_alturas = [1.95, 2.05, 1.70, 1.65]\n",
    "\n",
    "lista_peso_ideal = []\n",
    "\n",
    "# seu código\n",
    "\n",
    "def peso_ideal(altura):\n",
    "    lista_peso_ideal = imc_ideal * (altura ** 2)\n",
    "    return round(lista_peso_ideal, 2)\n",
    "\n",
    "while len(lista_peso_ideal) < len(lista_alturas):\n",
    "    lista_peso_ideal.append(peso_ideal(lista_alturas[len(lista_peso_ideal)]))\n",
    "\n",
    "lista_peso_ideal"
   ]
  },
  {
   "cell_type": "markdown",
   "metadata": {
    "id": "8OKAtYQM83yQ"
   },
   "source": [
    "### 09 - Peso ideal 4\n",
    "Dada uma lista de tuplas - cada elemento da lista é uma tupla contendo altura e peso de um paciente - crie uma nova lista com o IMC desses pacientes."
   ]
  },
  {
   "cell_type": "code",
   "execution_count": 117,
   "metadata": {
    "id": "FaXgkjzI83yQ",
    "outputId": "8adc5e59-8a72-42db-db6b-6895587e875e",
    "ExecuteTime": {
     "end_time": "2024-01-28T02:51:37.390428800Z",
     "start_time": "2024-01-28T02:51:37.380855800Z"
    }
   },
   "outputs": [
    {
     "data": {
      "text/plain": "[27.78, 27.55, 19.19]"
     },
     "execution_count": 117,
     "metadata": {},
     "output_type": "execute_result"
    }
   ],
   "source": [
    "altura_peso = [(1.80, 90), (1.65, 75), (1.91, 70)]\n",
    "\n",
    "imc = []\n",
    "\n",
    "# seu código\n",
    "\n",
    "def calcular_imc(altura, peso):  # Função renomeada\n",
    "    imc = peso / (altura ** 2)\n",
    "    return round(imc, 2)\n",
    "\n",
    "while len(imc) < len(altura_peso):\n",
    "    altura, peso = altura_peso[len(imc)]  # Desestruturação da tupla para melhorar a legibilidade\n",
    "    imc.append(calcular_imc(altura, peso))  # Chama a função `calcular_imc` em vez de `imc`\n",
    "\n",
    "imc"
   ]
  },
  {
   "cell_type": "markdown",
   "metadata": {
    "id": "kZdSJqJq83yR"
   },
   "source": [
    "### 10 - Peso ideal 5\n",
    "Dada uma lista de **listas** - cada elemento da lista é uma **lista** contendo altura e peso de um paciente, adicione mais um elemento à lista de cada paciente contendo o IMC do paciente. Verifique também se é 'baixo', 'normal' ou 'alto' segundo os padrões da OMS em que normal é entre 18.5 e 24.9.\n",
    "\n",
    "Reflexão: por que no problema anterior temos que criar uma nova lista, e não podemos adicionar os dados de cada indivíduo à tupla?"
   ]
  },
  {
   "cell_type": "code",
   "execution_count": 164,
   "metadata": {
    "id": "EwszojP283yR",
    "ExecuteTime": {
     "end_time": "2024-01-28T03:08:34.307902200Z",
     "start_time": "2024-01-28T03:08:34.297391300Z"
    }
   },
   "outputs": [
    {
     "name": "stdout",
     "output_type": "stream",
     "text": [
      "IMC: 27.78 - Nível: Alto\n",
      "IMC: 27.55 - Nível: Alto\n",
      "IMC: 19.19 - Nível: Médio\n"
     ]
    },
    {
     "data": {
      "text/plain": "[27.78, 27.55, 19.19]"
     },
     "execution_count": 164,
     "metadata": {},
     "output_type": "execute_result"
    }
   ],
   "source": [
    "altura_peso = [[1.80, 90], [1.65, 75], [1.91, 70]]\n",
    "\n",
    "imc = []\n",
    "\n",
    "# seu código\n",
    "\n",
    "def calcular_imc(altura, peso):\n",
    "    return peso / (altura ** 2)\n",
    "\n",
    "for altura, peso in altura_peso:\n",
    "    valor_imc = round(calcular_imc(altura, peso), 2)\n",
    "    imc.append(valor_imc)  # Adiciona o valor de IMC à lista\n",
    "\n",
    "    # Classificação do IMC e impressão do nível\n",
    "    if valor_imc < 18.5:\n",
    "        print(f\"IMC: {valor_imc} - Nível: Baixo\")\n",
    "    elif valor_imc >= 18.5 and valor_imc < 24.9:\n",
    "        print(f\"IMC: {valor_imc} - Nível: Médio\")\n",
    "    else:\n",
    "        print(f\"IMC: {valor_imc} - Nível: Alto\")\n",
    "\n",
    "imc"
   ]
  }
 ],
 "metadata": {
  "kernelspec": {
   "display_name": "Python 3",
   "language": "python",
   "name": "python3"
  },
  "language_info": {
   "codemirror_mode": {
    "name": "ipython",
    "version": 3
   },
   "file_extension": ".py",
   "mimetype": "text/x-python",
   "name": "python",
   "nbconvert_exporter": "python",
   "pygments_lexer": "ipython3",
   "version": "3.8.5"
  },
  "colab": {
   "provenance": [],
   "collapsed_sections": []
  }
 },
 "nbformat": 4,
 "nbformat_minor": 0
}
